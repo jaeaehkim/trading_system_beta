{
 "cells": [
  {
   "cell_type": "code",
   "execution_count": 1,
   "id": "surrounded-composer",
   "metadata": {},
   "outputs": [],
   "source": [
    "from afml.Chapter_2 import *\n",
    "from afml.Chapter_3 import *\n",
    "from afml.Chapter_4 import *\n",
    "from afml.Chapter_6 import *\n",
    "from afml.Chapter_7 import *\n",
    "from afml.Chapter_20 import *\n",
    "import os\n",
    "import matplotlib.pyplot as plt"
   ]
  },
  {
   "cell_type": "code",
   "execution_count": 2,
   "id": "statewide-asthma",
   "metadata": {},
   "outputs": [],
   "source": [
    "txt_path = r'C:\\Users\\jaehkim\\Desktop\\tick data'\n",
    "df = pd.read_csv(os.path.join(txt_path, 'S&P_data.csv'), parse_dates=['dates'])\n",
    "df.set_index('dates', inplace=True)\n",
    "assert not (True in df.index.duplicated())\n",
    "df = df.loc[~mad_outlier(df.price.values.reshape(-1,1))]\n",
    "dollar_df, (unit, std) = get_bar_df(df, 'dollar', 1_000_000)"
   ]
  },
  {
   "cell_type": "code",
   "execution_count": 3,
   "id": "level-bikini",
   "metadata": {},
   "outputs": [
    {
     "name": "stdout",
     "output_type": "stream",
     "text": [
      "                          price     bid     ask  size  volume      dollar\n",
      "dates                                                                    \n",
      "2009-09-28 09:46:35.001   51.07   51.05   51.07   900     900    45963.00\n",
      "2009-09-28 09:53:49.000   51.13   51.13   51.14   500     500    25565.00\n",
      "2009-09-28 09:54:40.000   51.14   51.13   51.14  1100    1100    56254.00\n",
      "2009-09-28 10:00:38.000   51.21   51.20   51.23   200     200    10242.00\n",
      "2009-09-28 10:02:52.009   51.26   51.25   51.26   900     900    46134.00\n",
      "...                         ...     ...     ...   ...     ...         ...\n",
      "2021-02-18 15:56:12.000  133.96  133.96  133.97   100     100    13396.00\n",
      "2021-02-18 15:56:43.001  133.95  133.95  133.96   278     278    37238.10\n",
      "2021-02-18 15:58:29.001  133.94  133.93  133.94   100     100    13394.00\n",
      "2021-02-18 15:59:57.000  133.92  133.90  133.92   100     100    13392.00\n",
      "2021-02-18 16:00:00.000  133.92  133.92  133.99  9253    9253  1239161.76\n",
      "\n",
      "[116443 rows x 6 columns] 1000000 3618815.3980832202\n"
     ]
    }
   ],
   "source": [
    "print (dollar_df, unit, std)"
   ]
  },
  {
   "cell_type": "code",
   "execution_count": 4,
   "id": "scenic-breed",
   "metadata": {},
   "outputs": [],
   "source": [
    "price = dollar_df.price.copy(deep=True)"
   ]
  },
  {
   "cell_type": "code",
   "execution_count": 5,
   "id": "incredible-continent",
   "metadata": {},
   "outputs": [],
   "source": [
    "dailyVol = getDailyVol(price)\n",
    "tEvents = getTEvents(np.log(price), upper=np.log(1+dailyVol.mean()), lower=np.log(1-dailyVol.mean()))\n",
    "tl = addVerticalBarrier(tEvents, price,10)\n",
    "target = dailyVol"
   ]
  },
  {
   "cell_type": "code",
   "execution_count": 6,
   "id": "raising-istanbul",
   "metadata": {},
   "outputs": [
    {
     "name": "stdout",
     "output_type": "stream",
     "text": [
      "daily volatility: \n",
      " dates\n",
      "2009-09-29 09:59:17.000         NaN\n",
      "2009-09-29 10:02:46.000    0.006769\n",
      "2009-09-29 10:17:36.003    0.004770\n",
      "2009-09-29 10:37:49.001    0.003988\n",
      "2009-09-29 10:51:20.000    0.003529\n",
      "                             ...   \n",
      "2021-02-18 15:56:12.000    0.002619\n",
      "2021-02-18 15:56:43.001    0.002624\n",
      "2021-02-18 15:58:29.001    0.002629\n",
      "2021-02-18 15:59:57.000    0.002630\n",
      "2021-02-18 16:00:00.000    0.002630\n",
      "Name: price, Length: 116408, dtype: float64 \n",
      " \n",
      " sampled datetime index: \n",
      " DatetimeIndex(['2009-09-28 11:51:21.001000',        '2009-09-29 09:31:28',\n",
      "                      '2009-09-29 09:59:17',        '2009-09-30 09:31:59',\n",
      "               '2009-09-30 09:52:49.002000',        '2009-09-30 11:58:47',\n",
      "                      '2009-09-30 14:47:14',        '2009-10-01 09:34:04',\n",
      "                      '2009-10-01 10:59:37',        '2009-10-01 15:45:52',\n",
      "               ...\n",
      "                      '2021-02-08 09:38:48', '2021-02-09 15:59:55.003000',\n",
      "                      '2021-02-10 10:39:13',        '2021-02-10 14:45:28',\n",
      "                      '2021-02-11 12:16:01',        '2021-02-12 09:33:14',\n",
      "                      '2021-02-12 16:00:00',        '2021-02-17 09:33:25',\n",
      "                      '2021-02-17 13:56:14',        '2021-02-18 09:54:33'],\n",
      "              dtype='datetime64[ns]', name='dates', length=5158, freq=None) \n",
      " time limit: \n",
      " dates\n",
      "2009-09-28 11:51:21.001   2009-10-08 12:05:09.000\n",
      "2009-09-29 09:31:28.000   2009-10-09 09:46:06.000\n",
      "2009-09-29 09:59:17.000   2009-10-09 10:07:37.000\n",
      "2009-09-30 09:31:59.000   2009-10-12 09:30:09.000\n",
      "2009-09-30 09:52:49.002   2009-10-12 09:30:09.000\n",
      "                                    ...          \n",
      "2021-02-02 10:04:16.000   2021-02-12 10:13:11.002\n",
      "2021-02-03 16:00:00.000   2021-02-16 09:30:00.000\n",
      "2021-02-04 10:54:25.000   2021-02-16 09:30:00.000\n",
      "2021-02-04 16:00:00.000   2021-02-16 09:30:00.000\n",
      "2021-02-08 09:38:48.000   2021-02-18 09:45:03.003\n",
      "Name: dates, Length: 5149, dtype: datetime64[ns]\n"
     ]
    }
   ],
   "source": [
    "print(f'daily volatility: \\n {dailyVol} \\n \\n sampled datetime index: \\n {tEvents} \\n time limit: \\n {tl}')"
   ]
  },
  {
   "cell_type": "code",
   "execution_count": 7,
   "id": "responsible-stanley",
   "metadata": {},
   "outputs": [],
   "source": [
    "numThreads = 1\n",
    "events = getEvents(price, tEvents, ptSl=[1,1], trgt=target, minRet=0.001, numThreads=numThreads, tl=tl, side=None)\n",
    "out = getBins(events, price)"
   ]
  },
  {
   "cell_type": "code",
   "execution_count": 8,
   "id": "capital-kitchen",
   "metadata": {},
   "outputs": [
    {
     "name": "stdout",
     "output_type": "stream",
     "text": [
      "events: \n",
      "                                              tl      trgt\n",
      "dates                                                    \n",
      "2009-09-30 09:31:59.000 2009-09-30 09:43:53.000  0.004568\n",
      "2009-09-30 09:52:49.002 2009-09-30 13:07:21.003  0.007220\n",
      "2009-09-30 11:58:47.000 2009-10-01 10:00:31.004  0.008810\n",
      "2009-09-30 14:47:14.000 2009-09-30 15:16:01.000  0.008050\n",
      "2009-10-01 09:34:04.000 2009-10-01 10:10:20.001  0.007492\n",
      "...                                         ...       ...\n",
      "2021-02-12 09:33:14.000 2021-02-12 15:54:40.000  0.003997\n",
      "2021-02-12 16:00:00.000 2021-02-16 09:30:00.000  0.003289\n",
      "2021-02-17 09:33:25.000 2021-02-17 10:14:22.000  0.003357\n",
      "2021-02-17 13:56:14.000 2021-02-18 09:45:03.003  0.002826\n",
      "2021-02-18 09:54:33.000 2021-02-18 14:39:22.002  0.002757\n",
      "\n",
      "[5155 rows x 2 columns] \n",
      " label: \n",
      "                               ret  bin\n",
      "dates                                 \n",
      "2009-09-30 09:31:59.000 -0.005420 -1.0\n",
      "2009-09-30 09:52:49.002  0.008622  1.0\n",
      "2009-09-30 11:58:47.000 -0.009988 -1.0\n",
      "2009-09-30 14:47:14.000 -0.009099 -1.0\n",
      "2009-10-01 09:34:04.000 -0.007854 -1.0\n",
      "...                           ...  ...\n",
      "2021-02-12 09:33:14.000  0.004127  1.0\n",
      "2021-02-12 16:00:00.000  0.005009  1.0\n",
      "2021-02-17 09:33:25.000  0.003893  1.0\n",
      "2021-02-17 13:56:14.000 -0.003801 -1.0\n",
      "2021-02-18 09:54:33.000  0.003065  1.0\n",
      "\n",
      "[5155 rows x 2 columns]\n"
     ]
    }
   ],
   "source": [
    "print(f'events: \\n {events} \\n label: \\n {out}')"
   ]
  },
  {
   "cell_type": "code",
   "execution_count": 9,
   "id": "communist-mobility",
   "metadata": {},
   "outputs": [
    {
     "name": "stdout",
     "output_type": "stream",
     "text": [
      "1.0    5155\n",
      "Name: bin, dtype: int64\n"
     ]
    }
   ],
   "source": [
    "print(getBins(getEvents(price, tEvents, ptSl=[1,1], trgt=target, minRet=0.001, numThreads=numThreads, tl=tl, side=out.bin), price).bin.value_counts())"
   ]
  },
  {
   "cell_type": "code",
   "execution_count": 10,
   "id": "congressional-tournament",
   "metadata": {},
   "outputs": [
    {
     "name": "stderr",
     "output_type": "stream",
     "text": [
      "100%|████████████████████████████████████████████████████████████████████████████| 5158/5158 [00:03<00:00, 1671.81it/s]\n"
     ]
    }
   ],
   "source": [
    "dataset = pd.concat([get_ohlc(df.price, price.loc[tEvents]), out.bin], axis=1).dropna(subset=['bin'])"
   ]
  },
  {
   "cell_type": "code",
   "execution_count": 11,
   "id": "alert-radius",
   "metadata": {},
   "outputs": [
    {
     "name": "stdout",
     "output_type": "stream",
     "text": [
      "dataset: \n",
      "                            price     high      low  bin\n",
      "2009-09-30 09:31:59.000   51.660   51.660   50.940 -1.0\n",
      "2009-09-30 09:52:49.002   51.030   51.076   50.780  1.0\n",
      "2009-09-30 11:58:47.000   51.060   51.530   50.990 -1.0\n",
      "2009-09-30 14:47:14.000   51.436   51.436   50.920 -1.0\n",
      "2009-10-01 09:34:04.000   50.930   50.980   50.460 -1.0\n",
      "...                          ...      ...      ...  ...\n",
      "2021-02-12 09:33:14.000  133.280  133.850  133.180  1.0\n",
      "2021-02-12 16:00:00.000  133.770  134.455  133.500  1.0\n",
      "2021-02-17 09:33:25.000  133.570  134.230  133.225  1.0\n",
      "2021-02-17 13:56:14.000  134.190  134.600  133.640 -1.0\n",
      "2021-02-18 09:54:33.000  133.780  134.215  133.290  1.0\n",
      "\n",
      "[5155 rows x 4 columns]\n"
     ]
    }
   ],
   "source": [
    "print(f'dataset: \\n {dataset}')"
   ]
  },
  {
   "cell_type": "code",
   "execution_count": 12,
   "id": "collected-syria",
   "metadata": {},
   "outputs": [],
   "source": [
    "numCoEvents = mpPandasObj(func=mpNumCoEvents, pdObj=('molecule', events.index), numThreads=numThreads, priceIdx=price.index, tl=events['tl'])\n",
    "sampleTw = mpPandasObj(func=mpSampleTW, pdObj=('molecule', events.index), numThreads=numThreads, tl=events['tl'], numCoEvents=numCoEvents)"
   ]
  },
  {
   "cell_type": "code",
   "execution_count": 13,
   "id": "recent-adventure",
   "metadata": {},
   "outputs": [
    {
     "name": "stdout",
     "output_type": "stream",
     "text": [
      "number of concurrent events at time t for each t in price.index: \n",
      " 2009-09-30 09:31:59.000    1\n",
      "2009-09-30 09:43:53.000    1\n",
      "2009-09-30 09:52:49.002    1\n",
      "2009-09-30 10:03:45.000    1\n",
      "2009-09-30 10:25:09.000    1\n",
      "                          ..\n",
      "2021-02-18 13:39:40.000    1\n",
      "2021-02-18 14:05:17.000    1\n",
      "2021-02-18 14:09:22.000    1\n",
      "2021-02-18 14:23:23.000    1\n",
      "2021-02-18 14:39:22.002    1\n",
      "Length: 116378, dtype: int64 \n",
      " uniqueness score for sample i for each i in tEvents: \n",
      " 2009-09-30 09:31:59.000    1.000000\n",
      "2009-09-30 09:52:49.002    0.812500\n",
      "2009-09-30 11:58:47.000    0.676471\n",
      "2009-09-30 14:47:14.000    0.500000\n",
      "2009-10-01 09:34:04.000    0.687500\n",
      "                             ...   \n",
      "2021-02-12 09:33:14.000    0.890476\n",
      "2021-02-12 16:00:00.000    1.000000\n",
      "2021-02-17 09:33:25.000    1.000000\n",
      "2021-02-17 13:56:14.000    1.000000\n",
      "2021-02-18 09:54:33.000    1.000000\n",
      "Length: 5155, dtype: float64\n"
     ]
    }
   ],
   "source": [
    "print(f'number of concurrent events at time t for each t in price.index: \\n {numCoEvents} \\n uniqueness score for sample i for each i in tEvents: \\n {sampleTw}')"
   ]
  },
  {
   "cell_type": "code",
   "execution_count": 14,
   "id": "empirical-identity",
   "metadata": {},
   "outputs": [
    {
     "data": {
      "text/plain": [
       "count    5155.000000\n",
       "mean        0.543316\n",
       "std         0.325539\n",
       "min         0.032544\n",
       "25%         0.250000\n",
       "50%         0.500000\n",
       "75%         0.900000\n",
       "max         1.000000\n",
       "dtype: float64"
      ]
     },
     "execution_count": 14,
     "metadata": {},
     "output_type": "execute_result"
    },
    {
     "data": {
      "image/png": "[encoded data removed]",
      "text/plain": [
       "<Figure size 432x288 with 1 Axes>"
      ]
     },
     "metadata": {
      "needs_background": "light"
     },
     "output_type": "display_data"
    }
   ],
   "source": [
    "sampleTw.plot.hist()\n",
    "sampleTw.describe()"
   ]
  },
  {
   "cell_type": "code",
   "execution_count": 15,
   "id": "removed-winter",
   "metadata": {},
   "outputs": [],
   "source": [
    "sample_weight = pd.Series(name='weight', dtype=float)\n",
    "sample_weight = mpPandasObj(func=mpSampleW, pdObj=('molecule', events.index), numThreads=numThreads, tl=events['tl'], numCoEvents=numCoEvents, price=price)\n",
    "sample_weight = sample_weight*sample_weight.shape[0]/sample_weight.sum()"
   ]
  },
  {
   "cell_type": "code",
   "execution_count": 16,
   "id": "monthly-barrel",
   "metadata": {},
   "outputs": [
    {
     "name": "stdout",
     "output_type": "stream",
     "text": [
      "2009-09-30 09:31:59.000    0.528553\n",
      "2009-09-30 09:52:49.002    0.509501\n",
      "2009-09-30 11:58:47.000    1.019648\n",
      "2009-09-30 14:47:14.000    0.735543\n",
      "2009-10-01 09:34:04.000    1.514947\n",
      "                             ...   \n",
      "2021-02-12 09:33:14.000    0.607905\n",
      "2021-02-12 16:00:00.000    1.165858\n",
      "2021-02-17 09:33:25.000    0.609113\n",
      "2021-02-17 13:56:14.000    0.727634\n",
      "2021-02-18 09:54:33.000    0.862750\n",
      "Length: 5155, dtype: float64\n"
     ]
    }
   ],
   "source": [
    "print(sample_weight)"
   ]
  },
  {
   "cell_type": "code",
   "execution_count": 17,
   "id": "monthly-mention",
   "metadata": {},
   "outputs": [
    {
     "name": "stdout",
     "output_type": "stream",
     "text": [
      "False 5155\n"
     ]
    }
   ],
   "source": [
    "print(False in sample_weight.index == dataset.index == events['tl'].index, len(sample_weight))"
   ]
  },
  {
   "cell_type": "code",
   "execution_count": 18,
   "id": "specific-penetration",
   "metadata": {},
   "outputs": [],
   "source": [
    "split_year = '2019'\n",
    "score = sampleTw\n",
    "training_sample_weight, test_sample_weight = sample_weight.loc[:str(int(split_year)-1)], sample_weight.loc[split_year:]\n",
    "training_set, test_set = dataset.loc[:str(int(split_year)-1)], dataset.loc[split_year:]"
   ]
  },
  {
   "cell_type": "code",
   "execution_count": 19,
   "id": "municipal-communications",
   "metadata": {},
   "outputs": [
    {
     "data": {
      "text/plain": [
       "BaggingClassifier(base_estimator=RandomForestClassifier(bootstrap=False,\n",
       "                                                        class_weight='balanced_subsample',\n",
       "                                                        criterion='entropy',\n",
       "                                                        n_estimators=1),\n",
       "                  max_samples=0.5433160226279922, n_estimators=1000,\n",
       "                  oob_score=True)"
      ]
     },
     "execution_count": 19,
     "metadata": {},
     "output_type": "execute_result"
    }
   ],
   "source": [
    "clf = bagging(2, n_estimators=1000, max_samples=score.mean(), oob_score=True)\n",
    "clf.fit(X=training_set.iloc[:,:-1], y=training_set.iloc[:,-1], sample_weight=training_sample_weight)"
   ]
  },
  {
   "cell_type": "code",
   "execution_count": 20,
   "id": "premium-poison",
   "metadata": {},
   "outputs": [
    {
     "name": "stdout",
     "output_type": "stream",
     "text": [
      "out-of-bag sample score: 0.70030666294954\n",
      "train data accuracy: 0.9861598295155098\n",
      "test data accuracy: 0.6690202798680583\n"
     ]
    }
   ],
   "source": [
    "print(f'out-of-bag sample score: {clf.oob_score_}')\n",
    "print(f'train data accuracy: {clf.score(X=training_set.iloc[:,:-1], y=training_set.iloc[:,-1], sample_weight=training_sample_weight)}')\n",
    "print(f'test data accuracy: {clf.score(X=test_set.iloc[:,:-1], y=test_set.iloc[:,-1], sample_weight=test_sample_weight)}')"
   ]
  },
  {
   "cell_type": "code",
   "execution_count": 21,
   "id": "corrected-belarus",
   "metadata": {},
   "outputs": [
    {
     "name": "stdout",
     "output_type": "stream",
     "text": [
      " 1.0    840\n",
      "-1.0    728\n",
      "Name: bin, dtype: int64\n",
      "label -1: \n",
      " precision, recall, f_score, support: (0.6339144215530903, 0.5494505494505495, 0.5886681383370125, 728)\n",
      "label 1: \n",
      " precision, recall, f_score, support: (0.6499466382070438, 0.725, 0.6854248733821048, 840)\n"
     ]
    }
   ],
   "source": [
    "from sklearn.metrics import precision_recall_fscore_support\n",
    "labels=[-1,1]\n",
    "y_pred = clf.predict(X=test_set.iloc[:,:-1])\n",
    "print(test_set.iloc[:,-1].value_counts())\n",
    "p, r, f, s = precision_recall_fscore_support(y_true=test_set.iloc[:,-1], y_pred=y_pred, labels=labels)\n",
    "for result in zip(labels,p,r,f,s):\n",
    "    print(f'label {result[0]}: \\n precision, recall, f_score, support: {result[1:]}')"
   ]
  },
  {
   "cell_type": "code",
   "execution_count": 22,
   "id": "sustainable-digest",
   "metadata": {
    "scrolled": true
   },
   "outputs": [
    {
     "name": "stdout",
     "output_type": "stream",
     "text": [
      "True                             price     high     low  bin\n",
      "2009-09-30 09:31:59.000   51.6600   51.660   50.94 -1.0\n",
      "2009-09-30 09:52:49.002   51.0300   51.076   50.78  1.0\n",
      "2009-09-30 11:58:47.000   51.0600   51.530   50.99 -1.0\n",
      "2009-09-30 14:47:14.000   51.4360   51.436   50.92 -1.0\n",
      "2009-10-01 09:34:04.000   50.9300   50.980   50.46 -1.0\n",
      "...                           ...      ...     ...  ...\n",
      "2018-12-31 10:55:46.000  100.5151  100.775  100.10  1.0\n",
      "2018-12-31 12:37:03.000  100.7137  101.060  100.27 -1.0\n",
      "2018-12-31 14:34:13.001  100.3500  101.000  100.23  1.0\n",
      "2018-12-31 15:43:49.001  100.9200  101.140  100.40 -1.0\n",
      "2018-12-31 16:13:26.000  101.1153  101.140   99.56 -1.0\n",
      "\n",
      "[3587 rows x 4 columns]                            price     high      low  bin\n",
      "2019-01-02 10:04:30.000  100.223  101.150  100.223  1.0\n",
      "2019-01-02 11:03:11.002  101.000  101.690  100.950  1.0\n",
      "2019-01-02 13:05:17.020  101.680  101.910  101.200 -1.0\n",
      "2019-01-02 15:07:03.000  101.250  101.630  100.930 -1.0\n",
      "2019-01-02 16:00:00.001  101.550  101.550   99.860 -1.0\n",
      "...                          ...      ...      ...  ...\n",
      "2021-02-12 09:33:14.000  133.280  133.850  133.180  1.0\n",
      "2021-02-12 16:00:00.000  133.770  134.455  133.500  1.0\n",
      "2021-02-17 09:33:25.000  133.570  134.230  133.225  1.0\n",
      "2021-02-17 13:56:14.000  134.190  134.600  133.640 -1.0\n",
      "2021-02-18 09:54:33.000  133.780  134.215  133.290  1.0\n",
      "\n",
      "[1568 rows x 4 columns]\n"
     ]
    }
   ],
   "source": [
    "print(len(training_set)+len(test_set)==dataset.shape[0], training_set, test_set)"
   ]
  },
  {
   "cell_type": "code",
   "execution_count": 23,
   "id": "sunrise-vitamin",
   "metadata": {},
   "outputs": [
    {
     "name": "stderr",
     "output_type": "stream",
     "text": [
      "100%|████████████████████████████████████████████████████████████████████████████████████| 2/2 [00:14<00:00,  7.29s/it]\n",
      "  0%|                                                                                            | 0/3 [00:00<?, ?it/s]"
     ]
    },
    {
     "name": "stdout",
     "output_type": "stream",
     "text": [
      "[0.54791795 0.54717102]\n"
     ]
    },
    {
     "name": "stderr",
     "output_type": "stream",
     "text": [
      "100%|████████████████████████████████████████████████████████████████████████████████████| 3/3 [00:30<00:00, 10.30s/it]\n",
      "  0%|                                                                                            | 0/4 [00:00<?, ?it/s]"
     ]
    },
    {
     "name": "stdout",
     "output_type": "stream",
     "text": [
      "[0.53193574 0.60255377 0.64364247]\n"
     ]
    },
    {
     "name": "stderr",
     "output_type": "stream",
     "text": [
      "100%|████████████████████████████████████████████████████████████████████████████████████| 4/4 [00:44<00:00, 11.05s/it]\n",
      "  0%|                                                                                            | 0/5 [00:00<?, ?it/s]"
     ]
    },
    {
     "name": "stdout",
     "output_type": "stream",
     "text": [
      "[0.54794863 0.60812798 0.67373295 0.65599365]\n"
     ]
    },
    {
     "name": "stderr",
     "output_type": "stream",
     "text": [
      "100%|████████████████████████████████████████████████████████████████████████████████████| 5/5 [00:58<00:00, 11.74s/it]\n",
      "  0%|                                                                                            | 0/6 [00:00<?, ?it/s]"
     ]
    },
    {
     "name": "stdout",
     "output_type": "stream",
     "text": [
      "[0.58263684 0.63943472 0.65774378 0.67786685 0.68763786]\n"
     ]
    },
    {
     "name": "stderr",
     "output_type": "stream",
     "text": [
      "100%|████████████████████████████████████████████████████████████████████████████████████| 6/6 [01:13<00:00, 12.31s/it]\n",
      "  0%|                                                                                            | 0/7 [00:00<?, ?it/s]"
     ]
    },
    {
     "name": "stdout",
     "output_type": "stream",
     "text": [
      "[0.61845956 0.65465828 0.59599872 0.70155137 0.67368768 0.69502339]\n"
     ]
    },
    {
     "name": "stderr",
     "output_type": "stream",
     "text": [
      "100%|████████████████████████████████████████████████████████████████████████████████████| 7/7 [01:27<00:00, 12.51s/it]\n",
      "  0%|                                                                                            | 0/8 [00:00<?, ?it/s]"
     ]
    },
    {
     "name": "stdout",
     "output_type": "stream",
     "text": [
      "[0.69581126 0.66186652 0.62627191 0.69224016 0.67866067 0.68425833\n",
      " 0.69093895]\n"
     ]
    },
    {
     "name": "stderr",
     "output_type": "stream",
     "text": [
      "100%|████████████████████████████████████████████████████████████████████████████████████| 8/8 [01:40<00:00, 12.52s/it]\n",
      "  0%|                                                                                            | 0/9 [00:00<?, ?it/s]"
     ]
    },
    {
     "name": "stdout",
     "output_type": "stream",
     "text": [
      "[0.62766393 0.66290172 0.64591718 0.66775392 0.71129045 0.72710189\n",
      " 0.67014688 0.72237422]\n"
     ]
    },
    {
     "name": "stderr",
     "output_type": "stream",
     "text": [
      "100%|████████████████████████████████████████████████████████████████████████████████████| 9/9 [01:56<00:00, 12.93s/it]\n",
      "  0%|                                                                                           | 0/10 [00:00<?, ?it/s]"
     ]
    },
    {
     "name": "stdout",
     "output_type": "stream",
     "text": [
      "[0.62331427 0.68672656 0.65690108 0.67156831 0.70547439 0.70803731\n",
      " 0.71616762 0.65117447 0.7160179 ]\n"
     ]
    },
    {
     "name": "stderr",
     "output_type": "stream",
     "text": [
      "100%|██████████████████████████████████████████████████████████████████████████████████| 10/10 [02:07<00:00, 12.80s/it]"
     ]
    },
    {
     "name": "stdout",
     "output_type": "stream",
     "text": [
      "[0.71653053 0.69323809 0.63260861 0.59624242 0.71478958 0.71355295\n",
      " 0.71018238 0.72072081 0.64343481 0.71279425]\n"
     ]
    },
    {
     "name": "stderr",
     "output_type": "stream",
     "text": [
      "\n"
     ]
    }
   ],
   "source": [
    "for n_split in range(2,11):\n",
    "    print(cvScore(clf, X=dataset.iloc[:,:-1], y=dataset.iloc[:,-1], sample_weight=sample_weight, tl=events['tl'], cv=n_split, pctEmbargo=0.01))"
   ]
  }
 ],
 "metadata": {
  "kernelspec": {
   "display_name": "Python 3",
   "language": "python",
   "name": "python3"
  },
  "language_info": {
   "codemirror_mode": {
    "name": "ipython",
    "version": 3
   },
   "file_extension": ".py",
   "mimetype": "text/x-python",
   "name": "python",
   "nbconvert_exporter": "python",
   "pygments_lexer": "ipython3",
   "version": "3.8.8"
  }
 },
 "nbformat": 4,
 "nbformat_minor": 5
}